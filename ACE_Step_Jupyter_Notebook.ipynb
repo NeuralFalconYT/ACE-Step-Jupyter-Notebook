{
  "nbformat": 4,
  "nbformat_minor": 0,
  "metadata": {
    "colab": {
      "provenance": [],
      "gpuType": "T4"
    },
    "kernelspec": {
      "name": "python3",
      "display_name": "Python 3"
    },
    "language_info": {
      "name": "python"
    },
    "accelerator": "GPU"
  },
  "cells": [
    {
      "cell_type": "markdown",
      "source": [
        "##Credit: [ACE-Step](https://github.com/ace-step/ACE-Step)"
      ],
      "metadata": {
        "id": "yFG0Xkgd3hnm"
      }
    },
    {
      "cell_type": "code",
      "source": [
        "#@title Get default working directory\n",
        "# 📂 Get the default working directory of your current environment (e.g., Colab,lightning.ai,Kaggle,local)\n",
        "#For colab /content\n",
        "#For lightning.ai '/teamspace/studios/this_studio'\n",
        "!pwd"
      ],
      "metadata": {
        "colab": {
          "base_uri": "https://localhost:8080/"
        },
        "cellView": "form",
        "id": "p0zb7sTy0Lrk",
        "outputId": "1fe1b682-2ba4-4eb5-8d75-f1479577a130"
      },
      "execution_count": 14,
      "outputs": [
        {
          "output_type": "stream",
          "name": "stdout",
          "text": [
            "/content\n"
          ]
        }
      ]
    },
    {
      "cell_type": "code",
      "execution_count": 3,
      "metadata": {
        "cellView": "form",
        "id": "W2OJV5vKyemh"
      },
      "outputs": [],
      "source": [
        "#@title 🔧 Install ACE-Step & Download Model\n",
        "\n",
        "# Change the root path if you're using a different cloud server (e.g., Kaggle, AWS,lightning.ai etc.)\n",
        "root_path='/content'#@param {type:\"string\"}\n",
        "%cd $root_path\n",
        "\n",
        "# !rm -rf $root_path/ACE-Step\n",
        "\n",
        "!git clone https://github.com/ace-step/ACE-Step.git\n",
        "%cd $root_path/ACE-Step\n",
        "\n",
        "## 👇 Skip this section if you're using Google Colab\n",
        "## ✅ Else un-comment and run below only if you're using a local machine or a different cloud environment\n",
        "\n",
        "# !pip uninstall -y torch torchvision torchaudio\n",
        "# !pip install torch torchvision torchaudio --index-url https://download.pytorch.org/whl/cu126\n",
        "\n",
        "!pip install -e .\n",
        "!pip install huggingface-hub\n",
        "!huggingface-cli download ACE-Step/ACE-Step-v1-3.5B --local-dir $root_path/ACE-Step/checkpoints --local-dir-use-symlinks False\n",
        "\n",
        "from IPython.display import clear_output\n",
        "clear_output()\n"
      ]
    },
    {
      "cell_type": "code",
      "source": [
        "#@title 🎵 Run Gradio APP\n",
        "# 💡 You can change the root path if you're using a different cloud server (e.g., Kaggle, AWS, Lightning AI, etc.)\n",
        "# Not required in most cases — but some platforms may retain previous installations or model files in specific paths.\n",
        "\n",
        "root_path = '/content'  #@param {type:\"string\"}\n",
        "%cd $root_path/ACE-Step\n",
        "bf16 = True # @param {\"type\":\"boolean\"}\n",
        "Public_Link = True # @param {\"type\":\"boolean\"}\n",
        "print(\"Click on the gradio Link ...\")\n",
        "!acestep --checkpoint_path ./checkpoints/ --port 7865 --device_id 0 --share {Public_Link} --bf16 {bf16}\n"
      ],
      "metadata": {
        "cellView": "form",
        "id": "brTtasYly3E1"
      },
      "execution_count": null,
      "outputs": []
    }
  ]
}